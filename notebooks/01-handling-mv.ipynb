{
 "cells": [
  {
   "cell_type": "code",
   "execution_count": 1,
   "metadata": {},
   "outputs": [
    {
     "data": {
      "text/plain": [
       "symboling            205\n",
       "normalized-losses    205\n",
       "make                 205\n",
       "fuel-type            205\n",
       "aspiration           205\n",
       "num-of-doors         205\n",
       "body-style           205\n",
       "drive-wheels         205\n",
       "engine-location      205\n",
       "wheel-base           205\n",
       "length               205\n",
       "width                205\n",
       "height               205\n",
       "curb-weight          205\n",
       "engine-type          205\n",
       "num-of-cylinders     205\n",
       "engin-size           205\n",
       "fuel-system          205\n",
       "bore                 205\n",
       "stroke               205\n",
       "compression-ratio    205\n",
       "horsepower           205\n",
       "peak-rpm             205\n",
       "city-mpg             205\n",
       "highway-mpg          205\n",
       "price                205\n",
       "dtype: int64"
      ]
     },
     "execution_count": 1,
     "metadata": {},
     "output_type": "execute_result"
    }
   ],
   "source": [
    "import pandas as pd\n",
    "\n",
    "# load original dataset\n",
    "df = pd.read_csv(\"../data/autos.csv\")\n",
    "df.count()"
   ]
  },
  {
   "cell_type": "code",
   "execution_count": 2,
   "metadata": {
    "scrolled": false
   },
   "outputs": [
    {
     "data": {
      "text/plain": [
       "normalized-losses    164\n",
       "make                 164\n",
       "fuel-type            164\n",
       "aspiration           164\n",
       "num-of-doors         164\n",
       "body-style           164\n",
       "drive-wheels         164\n",
       "engine-location      164\n",
       "wheel-base           164\n",
       "length               164\n",
       "width                164\n",
       "height               164\n",
       "curb-weight          164\n",
       "engine-type          164\n",
       "num-of-cylinders     164\n",
       "engin-size           164\n",
       "fuel-system          164\n",
       "bore                 164\n",
       "stroke               164\n",
       "compression-ratio    164\n",
       "horsepower           164\n",
       "peak-rpm             164\n",
       "city-mpg             164\n",
       "highway-mpg          164\n",
       "price                164\n",
       "dtype: int64"
      ]
     },
     "execution_count": 2,
     "metadata": {},
     "output_type": "execute_result"
    }
   ],
   "source": [
    "# remove symboling feature  & samples having mv in target\n",
    "df = df.drop(\"symboling\", axis=1)\n",
    "df['normalized-losses'] = pd.to_numeric(df['normalized-losses'], errors=\"coerce\")\n",
    "df = df.dropna()\n",
    "df.count()"
   ]
  },
  {
   "cell_type": "code",
   "execution_count": 3,
   "metadata": {
    "collapsed": true
   },
   "outputs": [],
   "source": [
    "# change cat -> num\n",
    "cat_to_num = {\"two\": 2, \"three\": 3, \"four\": 4, \"five\": 5,\n",
    "             \"six\": 6, \"eight\": 8, \"twelve\": 12}\n",
    "df = df.replace(to_replace=cat_to_num)"
   ]
  },
  {
   "cell_type": "code",
   "execution_count": 4,
   "metadata": {
    "collapsed": true
   },
   "outputs": [],
   "source": [
    "# change \"?\" -> NaN in features\n",
    "df['num-of-doors'] = pd.to_numeric(df['num-of-doors'], errors=\"coerce\")\n",
    "df['bore'] = pd.to_numeric(df['bore'], errors=\"coerce\")\n",
    "df['stroke'] = pd.to_numeric(df['stroke'], errors=\"coerce\")\n",
    "df['horsepower'] = pd.to_numeric(df['horsepower'], errors=\"coerce\")\n",
    "df['peak-rpm'] = pd.to_numeric(df['peak-rpm'], errors=\"coerce\")\n",
    "df['price'] = pd.to_numeric(df['price'], errors=\"coerce\")"
   ]
  },
  {
   "cell_type": "code",
   "execution_count": 5,
   "metadata": {},
   "outputs": [
    {
     "data": {
      "text/plain": [
       "normalized-losses    164\n",
       "make                 164\n",
       "fuel-type            164\n",
       "aspiration           164\n",
       "num-of-doors         163\n",
       "body-style           164\n",
       "drive-wheels         164\n",
       "engine-location      164\n",
       "wheel-base           164\n",
       "length               164\n",
       "width                164\n",
       "height               164\n",
       "curb-weight          164\n",
       "engine-type          164\n",
       "num-of-cylinders     164\n",
       "engin-size           164\n",
       "fuel-system          164\n",
       "bore                 160\n",
       "stroke               160\n",
       "compression-ratio    164\n",
       "horsepower           164\n",
       "peak-rpm             164\n",
       "city-mpg             164\n",
       "highway-mpg          164\n",
       "price                164\n",
       "dtype: int64"
      ]
     },
     "execution_count": 5,
     "metadata": {},
     "output_type": "execute_result"
    }
   ],
   "source": [
    "df.count()"
   ]
  },
  {
   "cell_type": "code",
   "execution_count": 6,
   "metadata": {},
   "outputs": [
    {
     "data": {
      "text/plain": [
       "normalized-losses    159\n",
       "make                 159\n",
       "fuel-type            159\n",
       "aspiration           159\n",
       "num-of-doors         159\n",
       "body-style           159\n",
       "drive-wheels         159\n",
       "engine-location      159\n",
       "wheel-base           159\n",
       "length               159\n",
       "width                159\n",
       "height               159\n",
       "curb-weight          159\n",
       "engine-type          159\n",
       "num-of-cylinders     159\n",
       "engin-size           159\n",
       "fuel-system          159\n",
       "bore                 159\n",
       "stroke               159\n",
       "compression-ratio    159\n",
       "horsepower           159\n",
       "peak-rpm             159\n",
       "city-mpg             159\n",
       "highway-mpg          159\n",
       "price                159\n",
       "dtype: int64"
      ]
     },
     "execution_count": 6,
     "metadata": {},
     "output_type": "execute_result"
    }
   ],
   "source": [
    "# removed all NaN in features\n",
    "df_removed_mv = df.dropna()\n",
    "df_removed_mv.count()"
   ]
  },
  {
   "cell_type": "code",
   "execution_count": 7,
   "metadata": {
    "collapsed": true
   },
   "outputs": [],
   "source": [
    "df = df.reset_index(drop=True)\n",
    "df_removed_mv = df_removed_mv.reset_index(drop=True)"
   ]
  },
  {
   "cell_type": "code",
   "execution_count": 8,
   "metadata": {
    "collapsed": true
   },
   "outputs": [],
   "source": [
    "df.to_csv(\"../data/autos_removed_target_mv.csv\", index=False)\n",
    "df_removed_mv.to_csv(\"../data/autos_removed_all_mv.csv\", index=False)"
   ]
  }
 ],
 "metadata": {
  "kernelspec": {
   "display_name": "Python 3",
   "language": "python",
   "name": "python3"
  },
  "language_info": {
   "codemirror_mode": {
    "name": "ipython",
    "version": 3
   },
   "file_extension": ".py",
   "mimetype": "text/x-python",
   "name": "python",
   "nbconvert_exporter": "python",
   "pygments_lexer": "ipython3",
   "version": "3.5.1"
  }
 },
 "nbformat": 4,
 "nbformat_minor": 2
}
