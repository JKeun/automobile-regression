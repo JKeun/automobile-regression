{
 "cells": [
  {
   "cell_type": "markdown",
   "metadata": {},
   "source": [
    "### Linear Models\n",
    "- Ridge Regression\n",
    "- Lasso Regression\n",
    "- Elastic Net\n",
    "- SGD Regression\n",
    "- Polynomial Linear Regression\n",
    "\n",
    "Reference: http://scikit-learn.org/stable/modules/linear_model.html"
   ]
  },
  {
   "cell_type": "code",
   "execution_count": null,
   "metadata": {
    "collapsed": true
   },
   "outputs": [],
   "source": [
    "import numpy as np\n",
    "import pandas as pd\n",
    "\n",
    "from sklearn.preprocessing import minmax_scale, PolynomialFeatures\n",
    "from sklearn.pipeline import Pipeline\n",
    "from sklearn.model_selection import GridSearchCV\n",
    "from sklearn.linear_model import Ridge, Lasso, ElasticNet, SGDRegressor, LinearRegression"
   ]
  },
  {
   "cell_type": "markdown",
   "metadata": {},
   "source": [
    "### DATA PREPARATION & PREPROCESSING PIPELINE"
   ]
  },
  {
   "cell_type": "code",
   "execution_count": null,
   "metadata": {},
   "outputs": [],
   "source": [
    "def load_data():\n",
    "    df = pd.read_csv(\"../data/autos_removed_target_mv.csv\")\n",
    "    return df\n",
    "\n",
    "# drop all missing vals\n",
    "def handling_mv(df):\n",
    "    df = df.replace(\"?\", np.nan)\n",
    "    df = df.dropna()\n",
    "    return df\n",
    "\n",
    "# preprocessing\n",
    "def preprocessing(df):\n",
    "    y = df['normalized-losses']\n",
    "    X = df.ix[:, 1:]\n",
    "    \n",
    "    # divide real and cat vals\n",
    "    cols_real = list(X.describe().columns)\n",
    "    cols_cat = [col for col in X.columns if col not in cols_real]\n",
    "    X_real = X[cols_real]\n",
    "    X_cat = X[cols_cat]\n",
    "    \n",
    "    # scaling real vlas (minmax scale; 0~1)\n",
    "    X_scaled = minmax_scale(X_real)\n",
    "    dfX_scale = pd.DataFrame(X_scaled, columns=cols_real)\n",
    "\n",
    "    # dummies cat vals\n",
    "    X_dummies = pd.get_dummies(X_cat)\n",
    "    \n",
    "    # reindex & merge real and cat DF\n",
    "    dfX_scale.reset_index(drop=True, inplace=True)\n",
    "    X_dummies.reset_index(drop=True, inplace=True)\n",
    "    X_pre = pd.concat([dfX_scale, X_dummies], axis=1)\n",
    "    \n",
    "    return X_pre, y"
   ]
  },
  {
   "cell_type": "code",
   "execution_count": null,
   "metadata": {},
   "outputs": [],
   "source": [
    "df = load_data()\n",
    "df = handling_mv(df)\n",
    "X_pre, y = preprocessing(df)"
   ]
  },
  {
   "cell_type": "code",
   "execution_count": null,
   "metadata": {
    "collapsed": true
   },
   "outputs": [],
   "source": [
    "# grid search cv\n",
    "def modeling(algo, param_name, param_grid, cv=5, scoring=\"neg_mean_squared_error\"):\n",
    "    model = GridSearchCV(algo,\n",
    "                        {param_name: param_grid},\n",
    "                        cv=cv,\n",
    "                        scoring=scoring)\n",
    "    return model.fit(X_pre, y)\n",
    "\n",
    "# parameter search graph\n",
    "def param_graph(param_name):\n",
    "    rmse = (-model.cv_results_['mean_test_score'])**(1/2)\n",
    "    \n",
    "    plt.style.use(\"seaborn-white\")\n",
    "    plt.scatter(x=model.param_grid[param_name], y=rmse)\n",
    "    \n",
    "    print(\"best param: \", model.best_params_, \"\\nmin rmse: \", np.min(rmse))"
   ]
  },
  {
   "cell_type": "code",
   "execution_count": null,
   "metadata": {},
   "outputs": [],
   "source": [
    "model = modeling(Ridge(), \"alpha\", np.logspace(-2, 1, 100), cv=10)"
   ]
  },
  {
   "cell_type": "code",
   "execution_count": null,
   "metadata": {},
   "outputs": [],
   "source": [
    "param_graph(\"alpha\")"
   ]
  }
 ],
 "metadata": {
  "kernelspec": {
   "display_name": "Python 3",
   "language": "python",
   "name": "python3"
  },
  "language_info": {
   "codemirror_mode": {
    "name": "ipython",
    "version": 3
   },
   "file_extension": ".py",
   "mimetype": "text/x-python",
   "name": "python",
   "nbconvert_exporter": "python",
   "pygments_lexer": "ipython3",
   "version": "3.5.1"
  }
 },
 "nbformat": 4,
 "nbformat_minor": 2
}
