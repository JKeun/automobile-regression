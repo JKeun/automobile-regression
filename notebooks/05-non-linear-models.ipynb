{
 "cells": [
  {
   "cell_type": "markdown",
   "metadata": {},
   "source": [
    "### Non-Linear Models\n",
    "- Kernal-Rdige Regression\n",
    "  -  ‘linear’, ‘poly’, ‘rbf’\n",
    "- SVR\n",
    "  - 'linear', 'rbf'\n",
    "- Ensemble Model\n",
    "  - AdaBoost Regressor\n",
    "  - Bagging Regressor\n",
    "  - Gradient Boosting Regressor\n",
    "  - Random Forest Regressor\n",
    "- NN\n",
    "  - MLP Regressor\n",
    "- Nearest Neighbors\n",
    "  - KNeighbors Regressor\n",
    "  \n",
    "http://scikit-learn.org/stable/modules/classes.html"
   ]
  },
  {
   "cell_type": "code",
   "execution_count": 1,
   "metadata": {
    "collapsed": true
   },
   "outputs": [],
   "source": [
    "import numpy as np\n",
    "import pandas as pd\n",
    "import matplotlib.pyplot as plt\n",
    "\n",
    "from sklearn.preprocessing import minmax_scale\n",
    "from sklearn.pipeline import Pipeline\n",
    "from sklearn.model_selection import GridSearchCV\n",
    "\n",
    "# models\n",
    "from sklearn.kernel_ridge import KernelRidge\n",
    "from sklearn.svm import SVR\n",
    "from sklearn.ensemble import AdaBoostRegressor, BaggingRegressor, GradientBoostingRegressor, RandomForestRegressor\n",
    "from sklearn.neural_network import MLPRegressor\n",
    "from sklearn.neighbors import KNeighborsRegressor"
   ]
  },
  {
   "cell_type": "code",
   "execution_count": 2,
   "metadata": {
    "collapsed": true
   },
   "outputs": [],
   "source": [
    "def load_data():\n",
    "    df = pd.read_csv(\"../data/autos_removed_target_mv.csv\")\n",
    "    return df\n",
    "\n",
    "# drop all missing vals\n",
    "def handling_mv(df):\n",
    "    df = df.replace(\"?\", np.nan)\n",
    "    df = df.dropna()\n",
    "    return df\n",
    "\n",
    "# preprocessing\n",
    "def preprocessing(df):\n",
    "    y = df['normalized-losses']\n",
    "    X = df.ix[:, 1:]\n",
    "    \n",
    "    # divide real and cat vals\n",
    "    cols_real = list(X.describe().columns)\n",
    "    cols_cat = [col for col in X.columns if col not in cols_real]\n",
    "    X_real = X[cols_real]\n",
    "    X_cat = X[cols_cat]\n",
    "    \n",
    "    # scaling real vlas (minmax scale; 0~1)\n",
    "    X_scaled = minmax_scale(X_real)\n",
    "    dfX_scale = pd.DataFrame(X_scaled, columns=cols_real)\n",
    "\n",
    "    # dummies cat vals\n",
    "    X_dummies = pd.get_dummies(X_cat)\n",
    "    \n",
    "    # reindex & merge real and cat DF\n",
    "    dfX_scale.reset_index(drop=True, inplace=True)\n",
    "    X_dummies.reset_index(drop=True, inplace=True)\n",
    "    X_pre = pd.concat([dfX_scale, X_dummies], axis=1)\n",
    "    \n",
    "    return X_pre, y\n",
    "\n",
    "df = load_data()\n",
    "df = handling_mv(df)\n",
    "X_pre, y = preprocessing(df)"
   ]
  },
  {
   "cell_type": "code",
   "execution_count": 3,
   "metadata": {
    "collapsed": true
   },
   "outputs": [],
   "source": [
    "# grid search cv\n",
    "def modeling(algo, param_grid, cv=None, scoring=\"neg_mean_squared_error\"):    \n",
    "    model = GridSearchCV(algo,\n",
    "                        param_grid,\n",
    "                        cv=cv,\n",
    "                        scoring=scoring)\n",
    "    return model.fit(X_pre, y)\n",
    "\n",
    "# parameter search graph 2D, 3D\n",
    "def param_search(model):\n",
    "    rmse = (-model.cv_results_['mean_test_score'])**(1/2)\n",
    "    print(\"best param: \", model.best_params_, \"\\nmin rmse: \", np.min(rmse))"
   ]
  },
  {
   "cell_type": "markdown",
   "metadata": {},
   "source": [
    "### KERNEL RIDGE"
   ]
  },
  {
   "cell_type": "code",
   "execution_count": 4,
   "metadata": {},
   "outputs": [],
   "source": [
    "param_grid = {\n",
    "    \"alpha\": np.logspace(-2, 1, 50),\n",
    "    \"kernel\": ['linear', 'rbf', 'poly', 'sigmoid']\n",
    "}\n",
    "\n",
    "kernel_ridge_model = modeling(KernelRidge(), param_grid, cv=10)"
   ]
  },
  {
   "cell_type": "code",
   "execution_count": 5,
   "metadata": {},
   "outputs": [
    {
     "name": "stdout",
     "output_type": "stream",
     "text": [
      "best param:  {'alpha': 0.29470517025518095, 'kernel': 'linear'} \n",
      "min rmse:  29.496329546858455\n"
     ]
    }
   ],
   "source": [
    "param_search(kernel_ridge_model)"
   ]
  },
  {
   "cell_type": "markdown",
   "metadata": {},
   "source": [
    "### SVR"
   ]
  },
  {
   "cell_type": "code",
   "execution_count": 6,
   "metadata": {},
   "outputs": [],
   "source": [
    "param_grid = {\n",
    "    \"kernel\": ['rbf', 'linear'],\n",
    "    \"C\": np.linspace(0.1, 3, 10),\n",
    "    \"epsilon\": np.logspace(-2, 0, 20),\n",
    "    \"gamma\": np.linspace(1, 10, 10)\n",
    "}\n",
    "\n",
    "svr_model = modeling(SVR(), param_grid, cv=5)"
   ]
  },
  {
   "cell_type": "code",
   "execution_count": 7,
   "metadata": {},
   "outputs": [
    {
     "name": "stdout",
     "output_type": "stream",
     "text": [
      "best param:  {'gamma': 1.0, 'C': 3.0, 'epsilon': 0.29763514416313175, 'kernel': 'linear'} \n",
      "min rmse:  34.421741348392324\n"
     ]
    }
   ],
   "source": [
    "param_search(svr_model)"
   ]
  },
  {
   "cell_type": "markdown",
   "metadata": {},
   "source": [
    "### AdaBoost"
   ]
  },
  {
   "cell_type": "code",
   "execution_count": 8,
   "metadata": {
    "collapsed": true
   },
   "outputs": [],
   "source": [
    "param_grid = {\n",
    "    \"learning_rate\": np.linspace(0.01, 3, 20),\n",
    "    \"loss\": ['linear', 'square', 'exponential']\n",
    "}\n",
    "\n",
    "ada_model = modeling(AdaBoostRegressor(), param_grid, cv=5)"
   ]
  },
  {
   "cell_type": "code",
   "execution_count": 9,
   "metadata": {},
   "outputs": [
    {
     "name": "stdout",
     "output_type": "stream",
     "text": [
      "best param:  {'loss': 'linear', 'learning_rate': 1.583684210526316} \n",
      "min rmse:  33.842678816341724\n"
     ]
    }
   ],
   "source": [
    "param_search(ada_model)"
   ]
  },
  {
   "cell_type": "markdown",
   "metadata": {},
   "source": [
    "### GBM"
   ]
  },
  {
   "cell_type": "code",
   "execution_count": 10,
   "metadata": {
    "collapsed": true
   },
   "outputs": [],
   "source": [
    "param_grid = {\n",
    "    \"loss\": ['ls', 'lad', 'huber', 'quantile'],\n",
    "    \"learning_rate\": np.linspace(0.01, 3, 20),\n",
    "    \"n_estimators\": np.arange(1, 10),\n",
    "    \"max_depth\": np.arange(1, 5)\n",
    "}\n",
    "\n",
    "gbm = modeling(GradientBoostingRegressor(), param_grid, cv=5)"
   ]
  },
  {
   "cell_type": "code",
   "execution_count": 11,
   "metadata": {},
   "outputs": [
    {
     "name": "stdout",
     "output_type": "stream",
     "text": [
      "best param:  {'max_depth': 4, 'loss': 'lad', 'n_estimators': 7, 'learning_rate': 1.1115789473684212} \n",
      "min rmse:  33.340163292476134\n"
     ]
    }
   ],
   "source": [
    "param_search(gbm)"
   ]
  },
  {
   "cell_type": "markdown",
   "metadata": {},
   "source": [
    "### Bagging"
   ]
  },
  {
   "cell_type": "code",
   "execution_count": 12,
   "metadata": {},
   "outputs": [],
   "source": [
    "param_grid = {\n",
    "    \"n_estimators\": np.arange(1, 10),\n",
    "    \"max_samples\": np.arange(10, 20),\n",
    "    \"max_features\": np.arange(10, 20),\n",
    "}\n",
    "\n",
    "bagging_model = modeling(BaggingRegressor(), param_grid, cv=5)"
   ]
  },
  {
   "cell_type": "code",
   "execution_count": 13,
   "metadata": {
    "scrolled": true
   },
   "outputs": [
    {
     "name": "stdout",
     "output_type": "stream",
     "text": [
      "best param:  {'max_features': 10, 'n_estimators': 4, 'max_samples': 10} \n",
      "min rmse:  31.194332887314502\n"
     ]
    }
   ],
   "source": [
    "param_search(bagging_model)"
   ]
  },
  {
   "cell_type": "markdown",
   "metadata": {},
   "source": [
    "### RF"
   ]
  },
  {
   "cell_type": "code",
   "execution_count": 14,
   "metadata": {
    "collapsed": true
   },
   "outputs": [],
   "source": [
    "param_grid = {\n",
    "    \"n_estimators\": np.arange(1, 10),\n",
    "    \"max_depth\": np.arange(1, 5),\n",
    "}\n",
    "\n",
    "rf_model = modeling(RandomForestRegressor(), param_grid, cv=5)"
   ]
  },
  {
   "cell_type": "code",
   "execution_count": 15,
   "metadata": {},
   "outputs": [
    {
     "name": "stdout",
     "output_type": "stream",
     "text": [
      "best param:  {'max_depth': 2, 'n_estimators': 9} \n",
      "min rmse:  35.50363389125756\n"
     ]
    }
   ],
   "source": [
    "param_search(rf_model)"
   ]
  },
  {
   "cell_type": "markdown",
   "metadata": {},
   "source": [
    "### NN"
   ]
  },
  {
   "cell_type": "code",
   "execution_count": 16,
   "metadata": {
    "scrolled": false
   },
   "outputs": [],
   "source": [
    "param_grid = {\n",
    "    \"hidden_layer_sizes\": [(100, 10)],\n",
    "    \"learning_rate\": ['constant', 'invscaling', 'adaptive'],\n",
    "    \"learning_rate_init\": np.linspace(0.005, 2, 20)\n",
    "}\n",
    "\n",
    "nn_model = modeling(MLPRegressor(), param_grid, cv=5)"
   ]
  },
  {
   "cell_type": "code",
   "execution_count": 17,
   "metadata": {},
   "outputs": [
    {
     "name": "stdout",
     "output_type": "stream",
     "text": [
      "best param:  {'hidden_layer_sizes': (100, 10), 'learning_rate_init': 0.005, 'learning_rate': 'constant'} \n",
      "min rmse:  40.77031707642177\n"
     ]
    }
   ],
   "source": [
    "param_search(nn_model)"
   ]
  },
  {
   "cell_type": "markdown",
   "metadata": {},
   "source": [
    "### KN"
   ]
  },
  {
   "cell_type": "code",
   "execution_count": 18,
   "metadata": {
    "collapsed": true
   },
   "outputs": [],
   "source": [
    "param_grid = {\n",
    "    \"n_neighbors\": np.arange(1, 30),\n",
    "    \"weights\": ['uniform', 'distance'],\n",
    "    \"algorithm\": ['auto', 'ball_tree', 'kd_tree', 'brute']\n",
    "}\n",
    "\n",
    "kn_model = modeling(KNeighborsRegressor(), param_grid, cv=5)"
   ]
  },
  {
   "cell_type": "code",
   "execution_count": 19,
   "metadata": {},
   "outputs": [
    {
     "name": "stdout",
     "output_type": "stream",
     "text": [
      "best param:  {'algorithm': 'brute', 'n_neighbors': 23, 'weights': 'distance'} \n",
      "min rmse:  35.41668773068977\n"
     ]
    }
   ],
   "source": [
    "param_search(kn_model)"
   ]
  }
 ],
 "metadata": {
  "kernelspec": {
   "display_name": "Python 3",
   "language": "python",
   "name": "python3"
  },
  "language_info": {
   "codemirror_mode": {
    "name": "ipython",
    "version": 3
   },
   "file_extension": ".py",
   "mimetype": "text/x-python",
   "name": "python",
   "nbconvert_exporter": "python",
   "pygments_lexer": "ipython3",
   "version": "3.5.1"
  }
 },
 "nbformat": 4,
 "nbformat_minor": 2
}
